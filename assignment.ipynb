{
 "cells": [
  {
   "cell_type": "code",
   "execution_count": 2,
   "id": "b2ac7cd1",
   "metadata": {},
   "outputs": [],
   "source": [
    "from google import genai\n",
    "import os\n",
    "\n",
    "client = genai.Client(api_key= os.getenv(\"GEMINI_API_KEY\"))\n",
    "\n",
    "response = client.models.generate_content"
   ]
  },
  {
   "cell_type": "code",
   "execution_count": 5,
   "id": "dbd3d50a",
   "metadata": {},
   "outputs": [],
   "source": [
    "import numpy as np\n",
    "import pandas as pd\n",
    "from scipy.stats import linregress\n",
    "import matplotlib.pyplot as plt\n",
    "\n",
    "# Part 1\n",
    "\n",
    "data = pd.read_csv(\"movie_genre_classification_final.csv\")\n",
    "\n",
    "ratings = data['Rating']\n",
    "\n",
    "mean = np.mean(ratings)\n",
    "\n",
    "variance = np.var(ratings)\n",
    "\n",
    "std = np.std(ratings)\n",
    "\n",
    "aboveMean = data[data[\"Rating\"] > mean]\n",
    "belowMean = data[data[\"Rating\"] < mean]\n"
   ]
  },
  {
   "cell_type": "code",
   "execution_count": null,
   "id": "2be0f706",
   "metadata": {},
   "outputs": [],
   "source": [
    "# Part 2\n",
    "\n",
    "print(data.head())\n",
    "print(data.describe())\n",
    "print(data.info())\n",
    "\n",
    "data['Rating_Category'] = np.where(data['Rating'] > mean, 'High', 'Low')\n",
    "\n",
    "# Part 3\n",
    "\n",
    "budget50 = data[\"Budget_USD\"][ : 50]\n",
    "ratings50 = ratings[ : 50]\n",
    "plt.scatter(budget50, ratings50)\n",
    "plt.xlabel(\"Budget (USD)\")\n",
    "plt.ylabel(\"Ratings\")\n",
    "plt.show()\n",
    "\n",
    "slope, intercept, r_value, p_value, std_err = linregress(budget50, ratings50)\n",
    "regression_line = slope * budget50 + intercept\n",
    "plt.scatter(budget50, ratings50, label='Data Points')\n",
    "plt.plot(budget50, regression_line, color='red', label='Regression Line')\n",
    "plt.xlabel(\"Budget (USD)\")\n",
    "plt.ylabel(\"Ratings\")\n",
    "plt.title(\"Movie Ratings vs Budget with Linear Regression\")\n",
    "plt.legend()\n",
    "plt.savefig(\"ratings_vs_budget_regression.png\")\n",
    "plt.show()"
   ]
  },
  {
   "cell_type": "markdown",
   "id": "1a101159",
   "metadata": {},
   "source": [
    "hgfgjkf"
   ]
  }
 ],
 "metadata": {
  "kernelspec": {
   "display_name": ".venv",
   "language": "python",
   "name": "python3"
  },
  "language_info": {
   "codemirror_mode": {
    "name": "ipython",
    "version": 3
   },
   "file_extension": ".py",
   "mimetype": "text/x-python",
   "name": "python",
   "nbconvert_exporter": "python",
   "pygments_lexer": "ipython3",
   "version": "3.13.5"
  }
 },
 "nbformat": 4,
 "nbformat_minor": 5
}
